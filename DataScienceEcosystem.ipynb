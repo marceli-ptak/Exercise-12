{
 "cells": [
  {
   "cell_type": "markdown",
   "id": "00b63a07-ac95-4e94-94bc-cb3475349c6a",
   "metadata": {},
   "source": [
    "# Data Science Tools and Ecosystem"
   ]
  },
  {
   "cell_type": "markdown",
   "id": "a4e550ea-0981-425b-a3b9-3296b4ab686a",
   "metadata": {},
   "source": [
    "In this notebook, Data Science Tools and Ecosystem are summarized."
   ]
  },
  {
   "cell_type": "markdown",
   "id": "5d4a91a9-d648-4fba-bde3-7ea04db101ae",
   "metadata": {},
   "source": [
    "**Objectives:**\n",
    "* Popular languages for Data Science\n",
    "* Useful libraries\n",
    "* Data Science tools\n",
    "* Simple arithmetics"
   ]
  },
  {
   "cell_type": "markdown",
   "id": "ce0c8c83-de40-45ec-a121-378e926606d3",
   "metadata": {},
   "source": [
    "Some of the popular languages that Data Scientists use are:\n",
    "1. Python\n",
    "2. R\n",
    "3. SQL\n",
    "4. Julia"
   ]
  },
  {
   "cell_type": "markdown",
   "id": "754033dd-f9d1-44e9-97f2-2130c1a744c5",
   "metadata": {},
   "source": [
    "Some of commonly used libraries used by Data Scientist include:\n",
    "1. NumPy\n",
    "2. Pandas\n",
    "3. SciPy"
   ]
  },
  {
   "cell_type": "markdown",
   "id": "0e50eb26-5b35-48c0-bccf-611cc098173c",
   "metadata": {},
   "source": [
    "|Data Science Tools| \n",
    "| :------ |\n",
    "| RStudio |\n",
    "| Anaconda |\n",
    "| GitHub |"
   ]
  },
  {
   "cell_type": "markdown",
   "id": "76cc7afb-c1c3-43bd-9915-c286a3ef38d8",
   "metadata": {},
   "source": [
    "### Below are a few examples of evaluating arithmetic expressions in Python"
   ]
  },
  {
   "cell_type": "code",
   "execution_count": 2,
   "id": "6987d610-6c80-46a1-bf00-d64c74cedc1a",
   "metadata": {},
   "outputs": [
    {
     "data": {
      "text/plain": [
       "17"
      ]
     },
     "execution_count": 2,
     "metadata": {},
     "output_type": "execute_result"
    }
   ],
   "source": [
    "# This a simple arithmetic expression to mutiply then add integers\n",
    "(3*4)+5"
   ]
  },
  {
   "cell_type": "code",
   "execution_count": 3,
   "id": "198a5787-a8e6-4187-8ef8-defbd6b2bdaf",
   "metadata": {},
   "outputs": [
    {
     "name": "stdout",
     "output_type": "stream",
     "text": [
      "3.3333333333333335\n"
     ]
    }
   ],
   "source": [
    "# This will convert 200 minutes to hours by diving by 60\n",
    "minutes = 200\n",
    "hours = minutes/60\n",
    "print(hours)"
   ]
  },
  {
   "cell_type": "markdown",
   "id": "a06583b8-1108-4ae0-aee4-8b897c7fb407",
   "metadata": {},
   "source": [
    "## Author\n",
    "Marceli Ptak"
   ]
  }
 ],
 "metadata": {
  "kernelspec": {
   "display_name": "Python 3 (ipykernel)",
   "language": "python",
   "name": "python3"
  },
  "language_info": {
   "codemirror_mode": {
    "name": "ipython",
    "version": 3
   },
   "file_extension": ".py",
   "mimetype": "text/x-python",
   "name": "python",
   "nbconvert_exporter": "python",
   "pygments_lexer": "ipython3",
   "version": "3.11.5"
  }
 },
 "nbformat": 4,
 "nbformat_minor": 5
}
